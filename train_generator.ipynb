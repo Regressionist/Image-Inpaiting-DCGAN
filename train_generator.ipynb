{
 "cells": [
  {
   "cell_type": "code",
   "execution_count": 1,
   "metadata": {},
   "outputs": [],
   "source": [
    "import pandas as pd\n",
    "import numpy as np\n",
    "from skimage import io\n",
    "import matplotlib.pyplot as plt\n",
    "import os\n",
    "from skimage.transform import rescale\n",
    "from skimage.color import rgb2gray, gray2rgb\n",
    "import torch\n",
    "import torch.nn as nn\n",
    "import torchvision\n",
    "from torch.utils.data import Dataset, DataLoader, Subset, ConcatDataset, random_split\n",
    "from torchvision import transforms, utils\n",
    "import random\n",
    "from torch.utils.data.sampler import SubsetRandomSampler\n",
    "from torch.autograd import Variable\n",
    "import time\n",
    "import cv2\n",
    "from PIL import Image"
   ]
  },
  {
   "cell_type": "code",
   "execution_count": 2,
   "metadata": {},
   "outputs": [],
   "source": [
    "from PIL import ImageFile\n",
    "ImageFile.LOAD_TRUNCATED_IMAGES = True\n",
    "plt.ion()"
   ]
  },
  {
   "cell_type": "code",
   "execution_count": 3,
   "metadata": {},
   "outputs": [],
   "source": [
    "dataframe=pd.read_csv('celeb.csv')"
   ]
  },
  {
   "cell_type": "code",
   "execution_count": 4,
   "metadata": {},
   "outputs": [],
   "source": [
    "class PlacesDataset(Dataset):\n",
    "    def __init__(self,df,img_dir,transform=None):\n",
    "        self.df=df\n",
    "        self.img_dir=img_dir\n",
    "        self.transform=transform\n",
    "    def __len__(self):\n",
    "        return len(self.df)\n",
    "    def __getitem__(self,idx):\n",
    "        img_path=os.path.join(self.img_dir,'{}'.format(self.df.loc[idx]['image']))\n",
    "        if(img_path is not None):\n",
    "            mpv=0.4381295423217147\n",
    "            image=Image.open(img_path)\n",
    "            sample={'orig_image':image}\n",
    "            if self.transform:\n",
    "                sample['orig_image']=self.transform(sample['orig_image'])\n",
    "                mask=np.zeros((160,160,3))\n",
    "                mask[60:100,60:100,:]=1\n",
    "                mask=transforms.functional.to_tensor(mask)\n",
    "                mask=mask.type(torch.FloatTensor)\n",
    "                new_image=sample['orig_image']-sample['orig_image']*mask+mpv*mask\n",
    "                sample['new_image']=new_image\n",
    "                sample['mask']=mask\n",
    "            \n",
    "            return sample"
   ]
  },
  {
   "cell_type": "code",
   "execution_count": 5,
   "metadata": {},
   "outputs": [],
   "source": [
    "train=dataframe[:200000]\n",
    "validation=dataframe[200000:200059]\n",
    "test=dataframe[200059:202599]\n",
    "validation=validation.reset_index(drop=True)\n",
    "test=test.reset_index(drop=True)\n",
    "train_data=PlacesDataset(train,img_dir='images/CelebA/',transform=transforms.Compose([transforms.Resize(160),transforms.RandomCrop((160,160)),transforms.ToTensor()]))\n",
    "validation_data=PlacesDataset(validation,img_dir='images/CelebA/',transform=transforms.Compose([transforms.Resize(160),transforms.RandomCrop((160,160)),transforms.ToTensor()]))\n",
    "test_data=PlacesDataset(test,img_dir='images/CelebA/',transform=transforms.Compose([transforms.Resize(160),transforms.RandomCrop((160,160)),transforms.ToTensor()]))"
   ]
  },
  {
   "cell_type": "code",
   "execution_count": 6,
   "metadata": {},
   "outputs": [
    {
     "name": "stdout",
     "output_type": "stream",
     "text": [
      "1034 torch.Size([3, 160, 160]) torch.Size([3, 160, 160]) torch.Size([3, 160, 160])\n",
      "1035 torch.Size([3, 160, 160]) torch.Size([3, 160, 160]) torch.Size([3, 160, 160])\n",
      "1036 torch.Size([3, 160, 160]) torch.Size([3, 160, 160]) torch.Size([3, 160, 160])\n",
      "1037 torch.Size([3, 160, 160]) torch.Size([3, 160, 160]) torch.Size([3, 160, 160])\n"
     ]
    }
   ],
   "source": [
    "for i in range(1034,1038):\n",
    "    sample=train_data[i]\n",
    "    print (i,sample['orig_image'].size(),sample['new_image'].size(),sample['mask'].size())"
   ]
  },
  {
   "cell_type": "code",
   "execution_count": 7,
   "metadata": {},
   "outputs": [],
   "source": [
    "def imshow(img):\n",
    "    npimg = img.numpy()\n",
    "    plt.imshow(np.transpose(npimg, (1, 2, 0)))\n",
    "    plt.show()"
   ]
  },
  {
   "cell_type": "code",
   "execution_count": 8,
   "metadata": {},
   "outputs": [],
   "source": [
    "train_loader = torch.utils.data.DataLoader(train_data, shuffle=True,batch_size=16)\n",
    "validation_loader = torch.utils.data.DataLoader(validation_data,batch_size=1)\n",
    "test_loader = torch.utils.data.DataLoader(test_data,batch_size=1)"
   ]
  },
  {
   "cell_type": "code",
   "execution_count": 9,
   "metadata": {},
   "outputs": [],
   "source": [
    "class Generator(nn.Module):\n",
    "    def __init__(self):\n",
    "        super(Generator, self).__init__()\n",
    "        self.conv1 = nn.Conv2d(3, 64, kernel_size=5, stride=1, padding=2)\n",
    "        self.bn1 = nn.BatchNorm2d(64)\n",
    "        self.act1 = nn.ReLU()\n",
    "        # input_shape: (None, 64, img_h, img_w)\n",
    "        self.conv2 = nn.Conv2d(64, 128, kernel_size=3, stride=2, padding=1)\n",
    "        self.bn2 = nn.BatchNorm2d(128)\n",
    "        self.act2 = nn.ReLU()\n",
    "        # input_shape: (None, 128, img_h//2, img_w//2)\n",
    "        self.conv3 = nn.Conv2d(128, 128, kernel_size=3, stride=1, padding=1)\n",
    "        self.bn3 = nn.BatchNorm2d(128)\n",
    "        self.act3 = nn.ReLU()\n",
    "        # input_shape: (None, 128, img_h//2, img_w//2)\n",
    "        self.conv4 = nn.Conv2d(128, 256, kernel_size=3, stride=2, padding=1)\n",
    "        self.bn4 = nn.BatchNorm2d(256)\n",
    "        self.act4 = nn.ReLU()\n",
    "        # input_shape: (None, 256, img_h//4, img_w//4)\n",
    "        self.conv5 = nn.Conv2d(256, 256, kernel_size=3, stride=1, padding=1)\n",
    "        self.bn5 = nn.BatchNorm2d(256)\n",
    "        self.act5 = nn.ReLU()\n",
    "        # input_shape: (None, 256, img_h//4, img_w//4)\n",
    "        self.conv6 = nn.Conv2d(256, 256, kernel_size=3, stride=1, padding=1)\n",
    "        self.bn6 = nn.BatchNorm2d(256)\n",
    "        self.act6 = nn.ReLU()\n",
    "        # input_shape: (None, 256, img_h//4, img_w//4)\n",
    "        self.conv7 = nn.Conv2d(256, 256, kernel_size=3, stride=1, dilation=2, padding=2)\n",
    "        self.bn7 = nn.BatchNorm2d(256)\n",
    "        self.act7 = nn.ReLU()\n",
    "        # input_shape: (None, 256, img_h//4, img_w//4)\n",
    "        self.conv8 = nn.Conv2d(256, 256, kernel_size=3, stride=1, dilation=4, padding=4)\n",
    "        self.bn8 = nn.BatchNorm2d(256)\n",
    "        self.act8 = nn.ReLU()\n",
    "        # input_shape: (None, 256, img_h//4, img_w//4)\n",
    "        self.conv9 = nn.Conv2d(256, 256, kernel_size=3, stride=1, dilation=8, padding=8)\n",
    "        self.bn9 = nn.BatchNorm2d(256)\n",
    "        self.act9 = nn.ReLU()\n",
    "        # input_shape: (None, 256, img_h//4, img_w//4)\n",
    "        self.conv10 = nn.Conv2d(256, 256, kernel_size=3, stride=1, dilation=16, padding=16)\n",
    "        self.bn10 = nn.BatchNorm2d(256)\n",
    "        self.act10 = nn.ReLU()\n",
    "        # input_shape: (None, 256, img_h//4, img_w//4)\n",
    "        self.conv11 = nn.Conv2d(256, 256, kernel_size=3, stride=1, padding=1)\n",
    "        self.bn11 = nn.BatchNorm2d(256)\n",
    "        self.act11 = nn.ReLU()\n",
    "        # input_shape: (None, 256, img_h//4, img_w//4)\n",
    "        self.conv12 = nn.Conv2d(256, 256, kernel_size=3, stride=1, padding=1)\n",
    "        self.bn12 = nn.BatchNorm2d(256)\n",
    "        self.act12 = nn.ReLU()\n",
    "        # input_shape: (None, 256, img_h//4, img_w//4)\n",
    "        self.deconv13 = nn.ConvTranspose2d(256, 128, kernel_size=4, stride=2, padding=1)\n",
    "        self.bn13 = nn.BatchNorm2d(128)\n",
    "        self.act13 = nn.ReLU()\n",
    "        # input_shape: (None, 128, img_h//2, img_w//2)\n",
    "        self.conv14 = nn.Conv2d(128, 128, kernel_size=3, stride=1, padding=1)\n",
    "        self.bn14 = nn.BatchNorm2d(128)\n",
    "        self.act14 = nn.ReLU()\n",
    "        # input_shape: (None, 128, img_h//2, img_w//2)\n",
    "        self.deconv15 = nn.ConvTranspose2d(128, 64, kernel_size=4, stride=2, padding=1)\n",
    "        self.bn15 = nn.BatchNorm2d(64)\n",
    "        self.act15 = nn.ReLU()\n",
    "        # input_shape: (None, 64, img_h, img_w)\n",
    "        self.conv16 = nn.Conv2d(64, 32, kernel_size=3, stride=1, padding=1)\n",
    "        self.bn16 = nn.BatchNorm2d(32)\n",
    "        self.act16 = nn.ReLU()\n",
    "        # input_shape: (None, 32, img_h, img_w)\n",
    "        self.conv17 = nn.Conv2d(32, 3, kernel_size=3, stride=1, padding=1)\n",
    "        self.act17 = nn.Sigmoid()\n",
    "        \n",
    "    def forward(self,x):\n",
    "        x = self.bn1(self.act1(self.conv1(x)))\n",
    "        x = self.bn2(self.act2(self.conv2(x)))\n",
    "        x = self.bn3(self.act3(self.conv3(x)))\n",
    "        x = self.bn4(self.act4(self.conv4(x)))\n",
    "        x = self.bn5(self.act5(self.conv5(x)))\n",
    "        x = self.bn6(self.act6(self.conv6(x)))\n",
    "        x = self.bn7(self.act7(self.conv7(x)))\n",
    "        x = self.bn8(self.act8(self.conv8(x)))\n",
    "        x = self.bn9(self.act9(self.conv9(x)))\n",
    "        x = self.bn10(self.act10(self.conv10(x)))\n",
    "        x = self.bn11(self.act11(self.conv11(x)))\n",
    "        x = self.bn12(self.act12(self.conv12(x)))\n",
    "        x = self.bn13(self.act13(self.deconv13(x)))\n",
    "        x = self.bn14(self.act14(self.conv14(x)))\n",
    "        x = self.bn15(self.act15(self.deconv15(x)))\n",
    "        x = self.bn16(self.act16(self.conv16(x)))\n",
    "        x = self.act17(self.conv17(x))\n",
    "        \n",
    "        return x"
   ]
  },
  {
   "cell_type": "code",
   "execution_count": 10,
   "metadata": {},
   "outputs": [],
   "source": [
    "def train_generator(model,train_loader,g_optimizer,g_criterion,epoch,num_epochs,epochs,rl_g):\n",
    "    running_loss=0\n",
    "    generator.train()\n",
    "    for i,(sample) in enumerate(train_loader):\n",
    "        i_o=Variable(sample['orig_image']).to(device)\n",
    "        i_n=Variable(sample['new_image']).to(device)\n",
    "        mask=Variable(sample['mask']).to(device)\n",
    "        \n",
    "       \n",
    "        g_optimizer.zero_grad()\n",
    "        i_g=generator(i_n)\n",
    "        loss=g_criterion(torch.mul(i_g,mask),torch.mul(i_o,mask))\n",
    "        loss.backward()\n",
    "        g_optimizer.step()\n",
    "        running_loss+=loss.item()\n",
    "        rl_g.append(loss.item())\n",
    "        if((i+1)%1250==0):\n",
    "            print('Epoch: [{}/{}] | Step: [{}/{}] | Loss: {}'.format(epoch+1-epochs, num_epochs, int((i+1)/1250),10 , round(running_loss/1250,4)))\n",
    "            running_loss=0"
   ]
  },
  {
   "cell_type": "code",
   "execution_count": 11,
   "metadata": {},
   "outputs": [
    {
     "name": "stdout",
     "output_type": "stream",
     "text": [
      "cuda:0\n"
     ]
    }
   ],
   "source": [
    "generator = Generator()\n",
    "device = torch.device(\"cuda:0\" if torch.cuda.is_available() else \"cpu\")\n",
    "print(device)\n",
    "generator=generator.to(device)\n",
    "g_criterion = nn.MSELoss()\n",
    "g_optimizer = torch.optim.Adadelta(generator.parameters())"
   ]
  },
  {
   "cell_type": "code",
   "execution_count": 12,
   "metadata": {},
   "outputs": [
    {
     "data": {
      "text/plain": [
       "Generator(\n",
       "  (conv1): Conv2d(3, 64, kernel_size=(5, 5), stride=(1, 1), padding=(2, 2))\n",
       "  (bn1): BatchNorm2d(64, eps=1e-05, momentum=0.1, affine=True, track_running_stats=True)\n",
       "  (act1): ReLU()\n",
       "  (conv2): Conv2d(64, 128, kernel_size=(3, 3), stride=(2, 2), padding=(1, 1))\n",
       "  (bn2): BatchNorm2d(128, eps=1e-05, momentum=0.1, affine=True, track_running_stats=True)\n",
       "  (act2): ReLU()\n",
       "  (conv3): Conv2d(128, 128, kernel_size=(3, 3), stride=(1, 1), padding=(1, 1))\n",
       "  (bn3): BatchNorm2d(128, eps=1e-05, momentum=0.1, affine=True, track_running_stats=True)\n",
       "  (act3): ReLU()\n",
       "  (conv4): Conv2d(128, 256, kernel_size=(3, 3), stride=(2, 2), padding=(1, 1))\n",
       "  (bn4): BatchNorm2d(256, eps=1e-05, momentum=0.1, affine=True, track_running_stats=True)\n",
       "  (act4): ReLU()\n",
       "  (conv5): Conv2d(256, 256, kernel_size=(3, 3), stride=(1, 1), padding=(1, 1))\n",
       "  (bn5): BatchNorm2d(256, eps=1e-05, momentum=0.1, affine=True, track_running_stats=True)\n",
       "  (act5): ReLU()\n",
       "  (conv6): Conv2d(256, 256, kernel_size=(3, 3), stride=(1, 1), padding=(1, 1))\n",
       "  (bn6): BatchNorm2d(256, eps=1e-05, momentum=0.1, affine=True, track_running_stats=True)\n",
       "  (act6): ReLU()\n",
       "  (conv7): Conv2d(256, 256, kernel_size=(3, 3), stride=(1, 1), padding=(2, 2), dilation=(2, 2))\n",
       "  (bn7): BatchNorm2d(256, eps=1e-05, momentum=0.1, affine=True, track_running_stats=True)\n",
       "  (act7): ReLU()\n",
       "  (conv8): Conv2d(256, 256, kernel_size=(3, 3), stride=(1, 1), padding=(4, 4), dilation=(4, 4))\n",
       "  (bn8): BatchNorm2d(256, eps=1e-05, momentum=0.1, affine=True, track_running_stats=True)\n",
       "  (act8): ReLU()\n",
       "  (conv9): Conv2d(256, 256, kernel_size=(3, 3), stride=(1, 1), padding=(8, 8), dilation=(8, 8))\n",
       "  (bn9): BatchNorm2d(256, eps=1e-05, momentum=0.1, affine=True, track_running_stats=True)\n",
       "  (act9): ReLU()\n",
       "  (conv10): Conv2d(256, 256, kernel_size=(3, 3), stride=(1, 1), padding=(16, 16), dilation=(16, 16))\n",
       "  (bn10): BatchNorm2d(256, eps=1e-05, momentum=0.1, affine=True, track_running_stats=True)\n",
       "  (act10): ReLU()\n",
       "  (conv11): Conv2d(256, 256, kernel_size=(3, 3), stride=(1, 1), padding=(1, 1))\n",
       "  (bn11): BatchNorm2d(256, eps=1e-05, momentum=0.1, affine=True, track_running_stats=True)\n",
       "  (act11): ReLU()\n",
       "  (conv12): Conv2d(256, 256, kernel_size=(3, 3), stride=(1, 1), padding=(1, 1))\n",
       "  (bn12): BatchNorm2d(256, eps=1e-05, momentum=0.1, affine=True, track_running_stats=True)\n",
       "  (act12): ReLU()\n",
       "  (deconv13): ConvTranspose2d(256, 128, kernel_size=(4, 4), stride=(2, 2), padding=(1, 1))\n",
       "  (bn13): BatchNorm2d(128, eps=1e-05, momentum=0.1, affine=True, track_running_stats=True)\n",
       "  (act13): ReLU()\n",
       "  (conv14): Conv2d(128, 128, kernel_size=(3, 3), stride=(1, 1), padding=(1, 1))\n",
       "  (bn14): BatchNorm2d(128, eps=1e-05, momentum=0.1, affine=True, track_running_stats=True)\n",
       "  (act14): ReLU()\n",
       "  (deconv15): ConvTranspose2d(128, 64, kernel_size=(4, 4), stride=(2, 2), padding=(1, 1))\n",
       "  (bn15): BatchNorm2d(64, eps=1e-05, momentum=0.1, affine=True, track_running_stats=True)\n",
       "  (act15): ReLU()\n",
       "  (conv16): Conv2d(64, 32, kernel_size=(3, 3), stride=(1, 1), padding=(1, 1))\n",
       "  (bn16): BatchNorm2d(32, eps=1e-05, momentum=0.1, affine=True, track_running_stats=True)\n",
       "  (act16): ReLU()\n",
       "  (conv17): Conv2d(32, 3, kernel_size=(3, 3), stride=(1, 1), padding=(1, 1))\n",
       "  (act17): Sigmoid()\n",
       ")"
      ]
     },
     "execution_count": 12,
     "metadata": {},
     "output_type": "execute_result"
    }
   ],
   "source": [
    "num_epochs_gen=5\n",
    "checkpoint = torch.load('Generator/model_2.pth')\n",
    "generator.load_state_dict(checkpoint['model_state_dict'])\n",
    "g_optimizer.load_state_dict(checkpoint['optimizer_state_dict'])\n",
    "epochs_gen = checkpoint['epoch']\n",
    "rl_g = checkpoint['loss']\n",
    "\n",
    "generator.eval()"
   ]
  },
  {
   "cell_type": "code",
   "execution_count": null,
   "metadata": {},
   "outputs": [
    {
     "name": "stdout",
     "output_type": "stream",
     "text": [
      "Epoch: [1/5] | Step: [1/10] | Loss: 0.0005\n",
      "Epoch: [1/5] | Step: [2/10] | Loss: 0.0005\n",
      "Epoch: [1/5] | Step: [3/10] | Loss: 0.0005\n",
      "Epoch: [1/5] | Step: [4/10] | Loss: 0.0005\n",
      "Epoch: [1/5] | Step: [5/10] | Loss: 0.0005\n",
      "Epoch: [1/5] | Step: [6/10] | Loss: 0.0005\n",
      "Epoch: [1/5] | Step: [7/10] | Loss: 0.0005\n",
      "Epoch: [1/5] | Step: [8/10] | Loss: 0.0005\n",
      "Epoch: [1/5] | Step: [9/10] | Loss: 0.0005\n",
      "Epoch: [1/5] | Step: [10/10] | Loss: 0.0005\n",
      "%---Saving the model---%\n",
      "Epoch: [2/5] | Step: [1/10] | Loss: 0.0005\n",
      "Epoch: [2/5] | Step: [2/10] | Loss: 0.0005\n",
      "Epoch: [2/5] | Step: [3/10] | Loss: 0.0005\n",
      "Epoch: [2/5] | Step: [4/10] | Loss: 0.0005\n",
      "Epoch: [2/5] | Step: [5/10] | Loss: 0.0005\n",
      "Epoch: [2/5] | Step: [6/10] | Loss: 0.0005\n",
      "Epoch: [2/5] | Step: [7/10] | Loss: 0.0005\n",
      "Epoch: [2/5] | Step: [8/10] | Loss: 0.0005\n",
      "Epoch: [2/5] | Step: [9/10] | Loss: 0.0005\n",
      "Epoch: [2/5] | Step: [10/10] | Loss: 0.0005\n",
      "%---Saving the model---%\n",
      "Epoch: [3/5] | Step: [1/10] | Loss: 0.0005\n",
      "Epoch: [3/5] | Step: [2/10] | Loss: 0.0005\n",
      "Epoch: [3/5] | Step: [3/10] | Loss: 0.0004\n",
      "Epoch: [3/5] | Step: [4/10] | Loss: 0.0004\n",
      "Epoch: [3/5] | Step: [5/10] | Loss: 0.0004\n",
      "Epoch: [3/5] | Step: [6/10] | Loss: 0.0004\n",
      "Epoch: [3/5] | Step: [7/10] | Loss: 0.0004\n",
      "Epoch: [3/5] | Step: [8/10] | Loss: 0.0004\n",
      "Epoch: [3/5] | Step: [9/10] | Loss: 0.0004\n",
      "Epoch: [3/5] | Step: [10/10] | Loss: 0.0004\n",
      "%---Saving the model---%\n",
      "Epoch: [4/5] | Step: [1/10] | Loss: 0.0004\n",
      "Epoch: [4/5] | Step: [2/10] | Loss: 0.0004\n",
      "Epoch: [4/5] | Step: [3/10] | Loss: 0.0004\n",
      "Epoch: [4/5] | Step: [4/10] | Loss: 0.0004\n",
      "Epoch: [4/5] | Step: [5/10] | Loss: 0.0004\n",
      "Epoch: [4/5] | Step: [6/10] | Loss: 0.0004\n",
      "Epoch: [4/5] | Step: [7/10] | Loss: 0.0004\n",
      "Epoch: [4/5] | Step: [8/10] | Loss: 0.0004\n",
      "Epoch: [4/5] | Step: [9/10] | Loss: 0.0004\n",
      "Epoch: [4/5] | Step: [10/10] | Loss: 0.0004\n",
      "%---Saving the model---%\n",
      "Epoch: [5/5] | Step: [1/10] | Loss: 0.0004\n",
      "Epoch: [5/5] | Step: [2/10] | Loss: 0.0004\n",
      "Epoch: [5/5] | Step: [3/10] | Loss: 0.0004\n",
      "Epoch: [5/5] | Step: [4/10] | Loss: 0.0004\n",
      "Epoch: [5/5] | Step: [5/10] | Loss: 0.0004\n",
      "Epoch: [5/5] | Step: [6/10] | Loss: 0.0004\n",
      "Epoch: [5/5] | Step: [7/10] | Loss: 0.0004\n",
      "Epoch: [5/5] | Step: [8/10] | Loss: 0.0004\n",
      "Epoch: [5/5] | Step: [9/10] | Loss: 0.0004\n"
     ]
    }
   ],
   "source": [
    "#epochs_gen=0\n",
    "#num_epochs_gen=8\n",
    "#rl_g=[]\n",
    "for epoch_gen in range(epochs_gen,num_epochs_gen+epochs_gen):\n",
    "    train_generator(generator,train_loader,g_optimizer,g_criterion,epoch_gen,num_epochs_gen,epochs_gen,rl_g)\n",
    "    print ('%---Saving the model---%')\n",
    "    torch.save({\n",
    "            'epoch': int(epoch_gen)+1,\n",
    "            'model_state_dict': generator.state_dict(),\n",
    "            'optimizer_state_dict': g_optimizer.state_dict(),\n",
    "            'loss': rl_g,\n",
    "            },'Generator/model_{}.pth'.format(epoch_gen+1))"
   ]
  },
  {
   "cell_type": "code",
   "execution_count": 14,
   "metadata": {},
   "outputs": [
    {
     "data": {
      "image/png": "[encoded data removed]",
      "text/plain": [
       "<Figure size 432x288 with 1 Axes>"
      ]
     },
     "metadata": {
      "needs_background": "light"
     },
     "output_type": "display_data"
    }
   ],
   "source": [
    "plt.plot(range(len(rl_g)),(rl_g))\n",
    "plt.show()"
   ]
  },
  {
   "cell_type": "code",
   "execution_count": null,
   "metadata": {},
   "outputs": [],
   "source": [
    "mask=np.zeros(160,160,3)"
   ]
  }
 ],
 "metadata": {
  "kernelspec": {
   "display_name": "Python 3",
   "language": "python",
   "name": "python3"
  },
  "language_info": {
   "codemirror_mode": {
    "name": "ipython",
    "version": 3
   },
   "file_extension": ".py",
   "mimetype": "text/x-python",
   "name": "python",
   "nbconvert_exporter": "python",
   "pygments_lexer": "ipython3",
   "version": "3.6.6"
  }
 },
 "nbformat": 4,
 "nbformat_minor": 2
}
