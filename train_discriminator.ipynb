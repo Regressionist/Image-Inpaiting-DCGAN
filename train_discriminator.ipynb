{
 "cells": [
  {
   "cell_type": "code",
   "execution_count": 6,
   "metadata": {},
   "outputs": [],
   "source": [
    "import pandas as pd\n",
    "import numpy as np\n",
    "from skimage import io\n",
    "import matplotlib.pyplot as plt\n",
    "import os\n",
    "from skimage.transform import rescale\n",
    "from skimage.color import rgb2gray, gray2rgb\n",
    "import torch\n",
    "import torch.nn as nn\n",
    "import torchvision\n",
    "from torch.utils.data import Dataset, DataLoader, Subset, ConcatDataset, random_split\n",
    "from torchvision import transforms, utils\n",
    "import random\n",
    "from torch.utils.data.sampler import SubsetRandomSampler\n",
    "from torch.autograd import Variable\n",
    "import time\n",
    "import cv2"
   ]
  },
  {
   "cell_type": "code",
   "execution_count": 7,
   "metadata": {},
   "outputs": [],
   "source": [
    "from PIL import ImageFile\n",
    "ImageFile.LOAD_TRUNCATED_IMAGES = True\n",
    "plt.ion()"
   ]
  },
  {
   "cell_type": "code",
   "execution_count": 8,
   "metadata": {},
   "outputs": [],
   "source": [
    "dataframe=pd.read_csv('list.csv')"
   ]
  },
  {
   "cell_type": "code",
   "execution_count": 9,
   "metadata": {},
   "outputs": [],
   "source": [
    "def image_transform(image):\n",
    "    #Construct the mask\n",
    "    mask=np.zeros((128,128,3))\n",
    "    mask[48:80,48:80]=1\n",
    "    \n",
    "    image=image/np.amax(image) #All entries of image between 0 and 1\n",
    "    image=rescale(image,0.5,anti_aliasing=True,multichannel=True) # Rescale image to 128*128*3\n",
    "    if (image.shape==mask.shape):\n",
    "        i=np.multiply(image,np.ones(mask.shape)-mask) #Find the unmasked portion\n",
    "        mu=np.zeros((128,128,3))\n",
    "        mu[:,:,0]=np.mean(i[:,:,0]) #Calculate the mean over unmasked portion\n",
    "        mu[:,:,1]=np.mean(i[:,:,1])\n",
    "        mu[:,:,2]=np.mean(i[:,:,2])\n",
    "        im=mu*mask+i #Set the outer pixel of channel to mean value calculated above\n",
    "        gray_img = rgb2gray(mask) \n",
    "        ip=np.dstack((im,gray_img)) #Stack final image with the mask\n",
    "        if (image is not None and ip is not None and mask is not None):\n",
    "            return (image,ip,mask)"
   ]
  },
  {
   "cell_type": "code",
   "execution_count": 10,
   "metadata": {},
   "outputs": [],
   "source": [
    "class PlacesDataset(Dataset):\n",
    "    def __init__(self,df,img_dir,transform=None):\n",
    "        self.df=df\n",
    "        self.img_dir=img_dir\n",
    "        self.transform=transform\n",
    "    def __len__(self):\n",
    "        return len(self.df)\n",
    "    def __getitem__(self,idx):\n",
    "        img_path=os.path.join(self.img_dir,'{}'.format(self.df.loc[idx]['image']))\n",
    "        if(img_path is not None):\n",
    "            image=io.imread(img_path)\n",
    "            if (image is not None):\n",
    "                image,tr_image,mask=image_transform(image)\n",
    "                sample={'orig_image':image,'new_image':tr_image,'mask':mask}\n",
    "                if self.transform:\n",
    "                    sample['orig_image']=self.transform(sample['orig_image'])\n",
    "                    sample['new_image']=self.transform(sample['new_image'])\n",
    "                    sample['mask']=self.transform(sample['mask'])\n",
    "        \n",
    "                return sample"
   ]
  },
  {
   "cell_type": "code",
   "execution_count": 11,
   "metadata": {},
   "outputs": [],
   "source": [
    "dataset=PlacesDataset(dataframe,img_dir='images/test_256/',transform=transforms.Compose([transforms.ToTensor()]))"
   ]
  },
  {
   "cell_type": "code",
   "execution_count": 12,
   "metadata": {},
   "outputs": [],
   "source": [
    "def imshow(img):\n",
    "    npimg = img.numpy()\n",
    "    plt.imshow(np.transpose(npimg, (1, 2, 0)))"
   ]
  },
  {
   "cell_type": "code",
   "execution_count": 13,
   "metadata": {},
   "outputs": [],
   "source": [
    "random.seed(0)\n",
    "num_train=len(dataset)\n",
    "indices=list(range(num_train))\n",
    "test_idx = indices[-210:]\n",
    "train_idx = list(set(indices) - set(test_idx))\n",
    "test_data = Subset(dataset,test_idx)\n",
    "train_data=Subset(dataset,train_idx)\n",
    "validation_data,test_data=random_split(test_data,(20,190))\n",
    "a=len(train_data)-75000\n",
    "train_phase_1,train_phase_2,train_phase_3=random_split(train_data,(70000,5000,a))"
   ]
  },
  {
   "cell_type": "code",
   "execution_count": 14,
   "metadata": {},
   "outputs": [],
   "source": [
    "train_loader_p1 = torch.utils.data.DataLoader(train_phase_1,batch_size=100)\n",
    "train_loader_p2 = torch.utils.data.DataLoader(train_phase_2,batch_size=100)\n",
    "train_loader_p3 = torch.utils.data.DataLoader(train_phase_3,batch_size=100)\n",
    "validation_loader = torch.utils.data.DataLoader(validation_data,batch_size=1)\n",
    "test_loader = torch.utils.data.DataLoader(test_data,batch_size=1)"
   ]
  },
  {
   "cell_type": "code",
   "execution_count": 15,
   "metadata": {},
   "outputs": [],
   "source": [
    "class Generator(nn.Module):\n",
    "    def __init__(self):\n",
    "        super(Generator, self).__init__()\n",
    "        self.conv1=nn.Conv2d(in_channels=4,out_channels=64,kernel_size=3,dilation=1,stride=1,padding=1)\n",
    "        self.norm1=nn.BatchNorm2d(num_features=64)\n",
    "        self.conv2=nn.Conv2d(in_channels=64,out_channels=128,kernel_size=2,dilation=1,stride=2,padding=0)\n",
    "        self.norm2=nn.BatchNorm2d(num_features=128)\n",
    "        self.conv3=nn.Conv2d(in_channels=128,out_channels=256,kernel_size=2,dilation=1,stride=2,padding=0)\n",
    "        self.norm3=nn.BatchNorm2d(num_features=256)\n",
    "        self.conv4=nn.Conv2d(in_channels=256,out_channels=256,kernel_size=3,dilation=1,stride=1,padding=1)\n",
    "        self.norm4=nn.BatchNorm2d(num_features=256)\n",
    "        self.conv5=nn.Conv2d(in_channels=256,out_channels=256,kernel_size=3,dilation=2,stride=1,padding=2)\n",
    "        self.norm5=nn.BatchNorm2d(num_features=256)\n",
    "        self.conv6=nn.Conv2d(in_channels=256,out_channels=256,kernel_size=3,dilation=4,stride=1,padding=4)\n",
    "        self.norm6=nn.BatchNorm2d(num_features=256)\n",
    "        self.conv7=nn.Conv2d(in_channels=256,out_channels=256,kernel_size=3,dilation=4,stride=1,padding=4)\n",
    "        self.norm7=nn.BatchNorm2d(num_features=256)\n",
    "        self.conv8=nn.Conv2d(in_channels=256,out_channels=256,kernel_size=3,dilation=8,stride=1,padding=8)\n",
    "        self.norm8=nn.BatchNorm2d(num_features=256)\n",
    "        self.conv9=nn.Conv2d(in_channels=256,out_channels=256,kernel_size=3,dilation=16,stride=1,padding=16)\n",
    "        self.norm9=nn.BatchNorm2d(num_features=256)\n",
    "        self.conv10=nn.Conv2d(in_channels=256,out_channels=256,kernel_size=3,dilation=1,stride=1,padding=1)\n",
    "        self.norm10=nn.BatchNorm2d(num_features=256)\n",
    "        self.conv11=nn.ConvTranspose2d(in_channels=256,out_channels=128,kernel_size=4,dilation=1,stride=2,padding=1)\n",
    "        self.norm11=nn.BatchNorm2d(num_features=128)\n",
    "        self.conv12=nn.Conv2d(in_channels=128,out_channels=128,kernel_size=3,dilation=1,stride=1,padding=1)\n",
    "        self.norm12=nn.BatchNorm2d(num_features=128)\n",
    "        self.conv13=nn.ConvTranspose2d(in_channels=128,out_channels=64,kernel_size=4,dilation=1,stride=2,padding=1)\n",
    "        self.norm13=nn.BatchNorm2d(num_features=64)\n",
    "        self.conv14=nn.Conv2d(in_channels=64,out_channels=32,kernel_size=3,dilation=1,stride=1,padding=1)\n",
    "        self.norm14=nn.BatchNorm2d(num_features=32)\n",
    "        self.conv15=nn.Conv2d(in_channels=32,out_channels=3,kernel_size=3,dilation=1,stride=1,padding=1)\n",
    "        self.relu=nn.ReLU()\n",
    "        self.sigm=nn.Sigmoid()\n",
    "        \n",
    "    def forward(self,x):\n",
    "        x=x.type(torch.cuda.FloatTensor)\n",
    "        out=self.conv1(x)\n",
    "        out=self.relu(out)\n",
    "        out=self.norm1(out)\n",
    "        out=self.conv2(out)\n",
    "        out=self.relu(out)\n",
    "        out=self.norm2(out)\n",
    "        out=self.conv3(out)\n",
    "        out=self.relu(out)\n",
    "        out=self.norm3(out)\n",
    "        out=self.conv4(out)\n",
    "        out=self.relu(out)\n",
    "        out=self.norm4(out)\n",
    "        out=self.conv5(out)\n",
    "        out=self.relu(out)\n",
    "        out=self.norm5(out)\n",
    "        out=self.conv6(out)\n",
    "        out=self.relu(out)\n",
    "        out=self.norm6(out)\n",
    "        out=self.conv7(out)\n",
    "        out=self.relu(out)\n",
    "        out=self.norm7(out)\n",
    "        out=self.conv8(out)\n",
    "        out=self.relu(out)\n",
    "        out=self.norm8(out)\n",
    "        out=self.conv9(out)\n",
    "        out=self.relu(out)\n",
    "        out=self.norm9(out)\n",
    "        out=self.conv10(out)\n",
    "        out=self.relu(out)\n",
    "        out=self.norm10(out)\n",
    "        out=self.conv11(out)\n",
    "        out=self.relu(out)\n",
    "        out=self.norm11(out)\n",
    "        out=self.conv12(out)\n",
    "        out=self.relu(out)\n",
    "        out=self.norm12(out)\n",
    "        out=self.conv13(out)\n",
    "        out=self.relu(out)\n",
    "        out=self.norm13(out)\n",
    "        out=self.conv14(out)\n",
    "        out=self.relu(out)\n",
    "        out=self.norm14(out)\n",
    "        \n",
    "        out=self.conv15(out)\n",
    "        out=self.sigm(out)\n",
    "        \n",
    "        return out"
   ]
  },
  {
   "cell_type": "code",
   "execution_count": 16,
   "metadata": {},
   "outputs": [],
   "source": [
    "class Discriminator(nn.Module):\n",
    "    def __init__(self):\n",
    "        super(Discriminator, self).__init__()\n",
    "        self.conv1g=nn.Conv2d(in_channels=3,out_channels=32,kernel_size=5,dilation=1,stride=2)\n",
    "        self.norm1g=nn.BatchNorm2d(num_features=32)\n",
    "        self.conv2g=nn.Conv2d(in_channels=32,out_channels=64,kernel_size=5,dilation=1,stride=2)\n",
    "        self.norm2g=nn.BatchNorm2d(num_features=64)\n",
    "        self.conv3g=nn.Conv2d(in_channels=64,out_channels=128,kernel_size=5,dilation=1,stride=2)\n",
    "        self.norm3g=nn.BatchNorm2d(num_features=128)\n",
    "        self.conv4g=nn.Conv2d(in_channels=128,out_channels=256,kernel_size=5,dilation=1,stride=2)\n",
    "        self.norm4g=nn.BatchNorm2d(num_features=256)\n",
    "        self.conv5g=nn.Conv2d(in_channels=256,out_channels=512,kernel_size=5,dilation=1,stride=2)\n",
    "        \n",
    "        self.conv1l=nn.Conv2d(in_channels=3,out_channels=32,kernel_size=5,dilation=1,stride=2)\n",
    "        self.norm1l=nn.BatchNorm2d(num_features=32)\n",
    "        self.conv2l=nn.Conv2d(in_channels=32,out_channels=64,kernel_size=5,dilation=1,stride=2)\n",
    "        self.norm2l=nn.BatchNorm2d(num_features=64)\n",
    "        self.conv3l=nn.Conv2d(in_channels=64,out_channels=128,kernel_size=5,dilation=1,stride=2)\n",
    "        self.norm3l=nn.BatchNorm2d(num_features=128)\n",
    "        self.conv4l=nn.Conv2d(in_channels=128,out_channels=256,kernel_size=5,dilation=1,stride=2)\n",
    "        \n",
    "        self.fc=nn.Linear(768,1)\n",
    "        self.relu=nn.ReLU()\n",
    "        self.sigm=nn.Sigmoid()\n",
    "        \n",
    "    def forward(self,x):\n",
    "        x=x.type(torch.cuda.FloatTensor)\n",
    "        out_g=self.conv1g(x)\n",
    "        out_g=self.relu(out_g)\n",
    "        out_g=self.norm1g(out_g)\n",
    "        out_g=self.conv2g(out_g)\n",
    "        out_g=self.relu(out_g)\n",
    "        out_g=self.norm2g(out_g)\n",
    "        out_g=self.conv3g(out_g)\n",
    "        out_g=self.relu(out_g)\n",
    "        out_g=self.norm3g(out_g)\n",
    "        out_g=self.conv4g(out_g)\n",
    "        out_g=self.relu(out_g)\n",
    "        out_g=self.norm4g(out_g)\n",
    "        out_g=self.conv5g(out_g)\n",
    "        out_g=self.relu(out_g)\n",
    "        out_g=out_g.view(-1,512)\n",
    "        \n",
    "        \n",
    "        y=x[:,:,32:96,32:96]\n",
    "        out_l=self.conv1l(y)\n",
    "        out_l=self.relu(out_l)\n",
    "        out_l=self.norm1l(out_l)\n",
    "        out_l=self.conv2l(out_l)\n",
    "        out_l=self.relu(out_l)\n",
    "        out_l=self.norm2l(out_l)\n",
    "        out_l=self.conv3l(out_l)\n",
    "        out_l=self.relu(out_l)\n",
    "        out_l=self.norm3l(out_l)\n",
    "        out_l=self.conv4l(out_l)\n",
    "        out_l=self.relu(out_l)\n",
    "        out_l=out_l.view(-1,256)\n",
    "        \n",
    "        out=torch.cat((out_g,out_l),1)\n",
    "        out=self.relu(out)\n",
    "        out=self.fc(out)\n",
    "        out=self.sigm(out)\n",
    "        \n",
    "        return out"
   ]
  },
  {
   "cell_type": "code",
   "execution_count": 17,
   "metadata": {},
   "outputs": [],
   "source": [
    "def train_discriminator(model,train_loader,d_optimizer,d_criterion,epoch,num_epochs,epochs,rl_d_fake,rl_d_real):\n",
    "    running_loss_real=0\n",
    "    running_loss_fake=0\n",
    "    discriminator.train()\n",
    "    for i,(sample) in enumerate(train_loader):\n",
    "        i_p=Variable(sample['new_image']).to(device)\n",
    "        i_n=Variable(sample['orig_image']).to(device)\n",
    "        mask=Variable(sample['mask']).to(device)\n",
    "        mask=mask.type(torch.cuda.FloatTensor)\n",
    "        i_p=i_p.type(torch.cuda.FloatTensor)\n",
    "        d_optimizer.zero_grad()\n",
    "        i_o=generator(i_p).detach()\n",
    "        i_p[:,:,48:80,48:80]=0\n",
    "        img=torch.mul(i_o,mask)+i_p[:,0:3,:,:]\n",
    "        d_i_o=discriminator(img)\n",
    "        d_i_n=discriminator(i_n)\n",
    "        \n",
    "        loss_real=d_criterion(d_i_n,ones_target(100).to(device))\n",
    "        loss_real.backward()\n",
    "        rl_d_real.append(loss_real.item())\n",
    "        \n",
    "        loss_fake=d_criterion(d_i_o,zeros_target(100).to(device))\n",
    "        loss_fake.backward()\n",
    "        rl_d_fake.append(loss_fake.item())\n",
    "        \n",
    "        d_optimizer.step()\n",
    "        \n",
    "        running_loss_real+=loss_real.item()\n",
    "        running_loss_fake+=loss_fake.item()\n",
    "        if((i+1)%10==0):\n",
    "            print('Epoch: [{}/{}] | Step: [{}/{}] | Loss_Real: {} | Loss_fake: {} | Total loss: {}'.format(epoch+1-epochs, num_epochs, int((i+1)/10),5 , round(running_loss_real/10,6), round(running_loss_fake/10,6), round((running_loss_real+running_loss_fake)/10,6)))\n",
    "            running_loss_real=0\n",
    "            running_loss_fake=0"
   ]
  },
  {
   "cell_type": "code",
   "execution_count": 18,
   "metadata": {},
   "outputs": [],
   "source": [
    "def ones_target(size):\n",
    "    '''\n",
    "    Tensor containing ones, with shape = size\n",
    "    '''\n",
    "    data = Variable(torch.ones(size, 1))\n",
    "    return data\n",
    "\n",
    "def zeros_target(size):\n",
    "    '''\n",
    "    Tensor containing zeros, with shape = size\n",
    "    '''\n",
    "    data = Variable(torch.zeros(size, 1))\n",
    "    return data"
   ]
  },
  {
   "cell_type": "code",
   "execution_count": 19,
   "metadata": {},
   "outputs": [
    {
     "name": "stdout",
     "output_type": "stream",
     "text": [
      "cuda:0\n"
     ]
    }
   ],
   "source": [
    "generator = Generator()\n",
    "device = torch.device(\"cuda:0\" if torch.cuda.is_available() else \"cpu\")\n",
    "print(device)\n",
    "generator=generator.to(device)\n",
    "g_criterion = nn.MSELoss()\n",
    "g_optimizer = torch.optim.Adam(generator.parameters())"
   ]
  },
  {
   "cell_type": "code",
   "execution_count": 20,
   "metadata": {},
   "outputs": [],
   "source": [
    "discriminator=Discriminator()\n",
    "discriminator=discriminator.to(device)\n",
    "d_criterion = nn.BCELoss()\n",
    "d_optimizer = torch.optim.Adam(discriminator.parameters())"
   ]
  },
  {
   "cell_type": "code",
   "execution_count": 21,
   "metadata": {},
   "outputs": [
    {
     "data": {
      "text/plain": [
       "Generator(\n",
       "  (conv1): Conv2d(4, 64, kernel_size=(3, 3), stride=(1, 1), padding=(1, 1))\n",
       "  (norm1): BatchNorm2d(64, eps=1e-05, momentum=0.1, affine=True, track_running_stats=True)\n",
       "  (conv2): Conv2d(64, 128, kernel_size=(2, 2), stride=(2, 2))\n",
       "  (norm2): BatchNorm2d(128, eps=1e-05, momentum=0.1, affine=True, track_running_stats=True)\n",
       "  (conv3): Conv2d(128, 256, kernel_size=(2, 2), stride=(2, 2))\n",
       "  (norm3): BatchNorm2d(256, eps=1e-05, momentum=0.1, affine=True, track_running_stats=True)\n",
       "  (conv4): Conv2d(256, 256, kernel_size=(3, 3), stride=(1, 1), padding=(1, 1))\n",
       "  (norm4): BatchNorm2d(256, eps=1e-05, momentum=0.1, affine=True, track_running_stats=True)\n",
       "  (conv5): Conv2d(256, 256, kernel_size=(3, 3), stride=(1, 1), padding=(2, 2), dilation=(2, 2))\n",
       "  (norm5): BatchNorm2d(256, eps=1e-05, momentum=0.1, affine=True, track_running_stats=True)\n",
       "  (conv6): Conv2d(256, 256, kernel_size=(3, 3), stride=(1, 1), padding=(4, 4), dilation=(4, 4))\n",
       "  (norm6): BatchNorm2d(256, eps=1e-05, momentum=0.1, affine=True, track_running_stats=True)\n",
       "  (conv7): Conv2d(256, 256, kernel_size=(3, 3), stride=(1, 1), padding=(4, 4), dilation=(4, 4))\n",
       "  (norm7): BatchNorm2d(256, eps=1e-05, momentum=0.1, affine=True, track_running_stats=True)\n",
       "  (conv8): Conv2d(256, 256, kernel_size=(3, 3), stride=(1, 1), padding=(8, 8), dilation=(8, 8))\n",
       "  (norm8): BatchNorm2d(256, eps=1e-05, momentum=0.1, affine=True, track_running_stats=True)\n",
       "  (conv9): Conv2d(256, 256, kernel_size=(3, 3), stride=(1, 1), padding=(16, 16), dilation=(16, 16))\n",
       "  (norm9): BatchNorm2d(256, eps=1e-05, momentum=0.1, affine=True, track_running_stats=True)\n",
       "  (conv10): Conv2d(256, 256, kernel_size=(3, 3), stride=(1, 1), padding=(1, 1))\n",
       "  (norm10): BatchNorm2d(256, eps=1e-05, momentum=0.1, affine=True, track_running_stats=True)\n",
       "  (conv11): ConvTranspose2d(256, 128, kernel_size=(4, 4), stride=(2, 2), padding=(1, 1))\n",
       "  (norm11): BatchNorm2d(128, eps=1e-05, momentum=0.1, affine=True, track_running_stats=True)\n",
       "  (conv12): Conv2d(128, 128, kernel_size=(3, 3), stride=(1, 1), padding=(1, 1))\n",
       "  (norm12): BatchNorm2d(128, eps=1e-05, momentum=0.1, affine=True, track_running_stats=True)\n",
       "  (conv13): ConvTranspose2d(128, 64, kernel_size=(4, 4), stride=(2, 2), padding=(1, 1))\n",
       "  (norm13): BatchNorm2d(64, eps=1e-05, momentum=0.1, affine=True, track_running_stats=True)\n",
       "  (conv14): Conv2d(64, 32, kernel_size=(3, 3), stride=(1, 1), padding=(1, 1))\n",
       "  (norm14): BatchNorm2d(32, eps=1e-05, momentum=0.1, affine=True, track_running_stats=True)\n",
       "  (conv15): Conv2d(32, 3, kernel_size=(3, 3), stride=(1, 1), padding=(1, 1))\n",
       "  (relu): ReLU()\n",
       "  (sigm): Sigmoid()\n",
       ")"
      ]
     },
     "execution_count": 21,
     "metadata": {},
     "output_type": "execute_result"
    }
   ],
   "source": [
    "checkpoint = torch.load('Generator/model_7.pth')\n",
    "generator.load_state_dict(checkpoint['model_state_dict'])\n",
    "g_optimizer.load_state_dict(checkpoint['optimizer_state_dict'])\n",
    "epochs_gen = checkpoint['epoch']\n",
    "rl_g = checkpoint['loss']\n",
    "\n",
    "generator.eval()"
   ]
  },
  {
   "cell_type": "code",
   "execution_count": null,
   "metadata": {},
   "outputs": [],
   "source": [
    "#num_epochs_dis=10\n",
    "#checkpoint = torch.load('Discriminator/dis_model_1.pth')\n",
    "#discriminator.load_state_dict(checkpoint['model_state_dict'])\n",
    "#d_optimizer.load_state_dict(checkpoint['optimizer_state_dict'])\n",
    "#epochs_dis = checkpoint['epoch']\n",
    "#rl_d = checkpoint['loss']\n",
    "\n",
    "#discriminator.eval()"
   ]
  },
  {
   "cell_type": "code",
   "execution_count": 22,
   "metadata": {},
   "outputs": [
    {
     "name": "stderr",
     "output_type": "stream",
     "text": [
      "/home/ubuntu/anaconda3/lib/python3.6/site-packages/skimage/transform/_warps.py:105: UserWarning: The default mode, 'constant', will be changed to 'reflect' in skimage 0.15.\n",
      "  warn(\"The default mode, 'constant', will be changed to 'reflect' in \"\n"
     ]
    },
    {
     "name": "stdout",
     "output_type": "stream",
     "text": [
      "Epoch: [1/5] | Step: [1/5] | Loss_Real: 0.280224 | Loss_fake: 0.127712 | Total loss: 0.407936\n",
      "Epoch: [1/5] | Step: [2/5] | Loss_Real: 0.038523 | Loss_fake: 0.034399 | Total loss: 0.072922\n",
      "Epoch: [1/5] | Step: [3/5] | Loss_Real: 0.013744 | Loss_fake: 0.014754 | Total loss: 0.028498\n",
      "Epoch: [1/5] | Step: [4/5] | Loss_Real: 0.011098 | Loss_fake: 0.014285 | Total loss: 0.025383\n",
      "Epoch: [1/5] | Step: [5/5] | Loss_Real: 0.017282 | Loss_fake: 0.033248 | Total loss: 0.05053\n",
      "%---Saving the model---%\n",
      "Epoch: [2/5] | Step: [1/5] | Loss_Real: 0.012198 | Loss_fake: 0.021596 | Total loss: 0.033794\n",
      "Epoch: [2/5] | Step: [2/5] | Loss_Real: 0.010396 | Loss_fake: 0.021831 | Total loss: 0.032227\n",
      "Epoch: [2/5] | Step: [3/5] | Loss_Real: 0.031915 | Loss_fake: 0.016068 | Total loss: 0.047983\n",
      "Epoch: [2/5] | Step: [4/5] | Loss_Real: 0.018862 | Loss_fake: 0.014284 | Total loss: 0.033146\n",
      "Epoch: [2/5] | Step: [5/5] | Loss_Real: 0.009049 | Loss_fake: 0.002206 | Total loss: 0.011255\n",
      "%---Saving the model---%\n",
      "Epoch: [3/5] | Step: [1/5] | Loss_Real: 0.006186 | Loss_fake: 0.010935 | Total loss: 0.017122\n",
      "Epoch: [3/5] | Step: [2/5] | Loss_Real: 0.001099 | Loss_fake: 0.000399 | Total loss: 0.001498\n",
      "Epoch: [3/5] | Step: [3/5] | Loss_Real: 0.002115 | Loss_fake: 0.001629 | Total loss: 0.003745\n",
      "Epoch: [3/5] | Step: [4/5] | Loss_Real: 0.001725 | Loss_fake: 0.004472 | Total loss: 0.006197\n",
      "Epoch: [3/5] | Step: [5/5] | Loss_Real: 0.008554 | Loss_fake: 0.000269 | Total loss: 0.008822\n",
      "%---Saving the model---%\n",
      "Epoch: [4/5] | Step: [1/5] | Loss_Real: 0.003744 | Loss_fake: 0.018585 | Total loss: 0.022329\n",
      "Epoch: [4/5] | Step: [2/5] | Loss_Real: 0.001418 | Loss_fake: 0.002333 | Total loss: 0.003751\n",
      "Epoch: [4/5] | Step: [3/5] | Loss_Real: 0.001537 | Loss_fake: 0.000974 | Total loss: 0.002511\n",
      "Epoch: [4/5] | Step: [4/5] | Loss_Real: 0.001562 | Loss_fake: 0.003678 | Total loss: 0.00524\n",
      "Epoch: [4/5] | Step: [5/5] | Loss_Real: 0.006514 | Loss_fake: 2e-05 | Total loss: 0.006534\n",
      "%---Saving the model---%\n",
      "Epoch: [5/5] | Step: [1/5] | Loss_Real: 0.001033 | Loss_fake: 0.001071 | Total loss: 0.002105\n",
      "Epoch: [5/5] | Step: [2/5] | Loss_Real: 0.001178 | Loss_fake: 0.000332 | Total loss: 0.001511\n",
      "Epoch: [5/5] | Step: [3/5] | Loss_Real: 0.000174 | Loss_fake: 0.000422 | Total loss: 0.000596\n",
      "Epoch: [5/5] | Step: [4/5] | Loss_Real: 0.000123 | Loss_fake: 4e-06 | Total loss: 0.000128\n",
      "Epoch: [5/5] | Step: [5/5] | Loss_Real: 0.00259 | Loss_fake: 0.001485 | Total loss: 0.004075\n",
      "%---Saving the model---%\n"
     ]
    }
   ],
   "source": [
    "num_epochs_dis=5\n",
    "epochs_dis=0\n",
    "rl_d_fake=[]\n",
    "rl_d_real=[]\n",
    "for epoch_dis in range(epochs_dis,num_epochs_dis+epochs_dis):\n",
    "    train_discriminator(discriminator,train_loader_p2,d_optimizer,d_criterion,epoch_dis,num_epochs_dis,epochs_dis,rl_d_fake,rl_d_real)\n",
    "    print ('%---Saving the model---%')\n",
    "    torch.save({\n",
    "            'epoch': int(epoch_dis+1),\n",
    "            'model_state_dict': discriminator.state_dict(),\n",
    "            'optimizer_state_dict': d_optimizer.state_dict(),\n",
    "            'Fake loss': rl_d_fake,\n",
    "            'Real loss': rl_d_real,\n",
    "            },'Discriminator/model_{}.pth'.format(epoch_dis+1))"
   ]
  },
  {
   "cell_type": "code",
   "execution_count": 23,
   "metadata": {},
   "outputs": [
    {
     "data": {
      "image/png": "[encoded data removed]",
      "text/plain": [
       "<Figure size 432x288 with 1 Axes>"
      ]
     },
     "metadata": {
      "needs_background": "light"
     },
     "output_type": "display_data"
    }
   ],
   "source": [
    "plt.plot(range(len(rl_d_fake)),rl_d_fake,color='blue')\n",
    "plt.plot(range(len(rl_d_real)),rl_d_real,color='red')\n",
    "plt.show()"
   ]
  },
  {
   "cell_type": "code",
   "execution_count": null,
   "metadata": {},
   "outputs": [],
   "source": []
  }
 ],
 "metadata": {
  "kernelspec": {
   "display_name": "Python 3",
   "language": "python",
   "name": "python3"
  },
  "language_info": {
   "codemirror_mode": {
    "name": "ipython",
    "version": 3
   },
   "file_extension": ".py",
   "mimetype": "text/x-python",
   "name": "python",
   "nbconvert_exporter": "python",
   "pygments_lexer": "ipython3",
   "version": "3.6.6"
  }
 },
 "nbformat": 4,
 "nbformat_minor": 2
}
